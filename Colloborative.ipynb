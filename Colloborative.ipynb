{
  "nbformat": 4,
  "nbformat_minor": 0,
  "metadata": {
    "colab": {
      "name": "Colloborative.ipynb",
      "provenance": [],
      "collapsed_sections": []
    },
    "kernelspec": {
      "name": "python3",
      "display_name": "Python 3"
    }
  },
  "cells": [
    {
      "cell_type": "code",
      "metadata": {
        "id": "ns2cRP0nT-ZM",
        "colab_type": "code",
        "colab": {}
      },
      "source": [
        "import numpy as np\n",
        "import tensorflow as tf\n",
        "import pandas as pd\n",
        "import collections\n",
        "from matplotlib import pyplot as plt"
      ],
      "execution_count": 0,
      "outputs": []
    },
    {
      "cell_type": "code",
      "metadata": {
        "id": "swYwGlj4VZ1p",
        "colab_type": "code",
        "colab": {}
      },
      "source": [
        "df = pd.read_csv('cust_matrix_int.csv')"
      ],
      "execution_count": 0,
      "outputs": []
    },
    {
      "cell_type": "code",
      "metadata": {
        "id": "VBkGUDe5Vf9X",
        "colab_type": "code",
        "outputId": "6109e3e9-0e06-44ee-f4f1-2476af03182c",
        "colab": {
          "base_uri": "https://localhost:8080/",
          "height": 215
        }
      },
      "source": [
        "df.head()"
      ],
      "execution_count": 0,
      "outputs": [
        {
          "output_type": "execute_result",
          "data": {
            "text/html": [
              "<div>\n",
              "<style scoped>\n",
              "    .dataframe tbody tr th:only-of-type {\n",
              "        vertical-align: middle;\n",
              "    }\n",
              "\n",
              "    .dataframe tbody tr th {\n",
              "        vertical-align: top;\n",
              "    }\n",
              "\n",
              "    .dataframe thead th {\n",
              "        text-align: right;\n",
              "    }\n",
              "</style>\n",
              "<table border=\"1\" class=\"dataframe\">\n",
              "  <thead>\n",
              "    <tr style=\"text-align: right;\">\n",
              "      <th></th>\n",
              "      <th>cust_id</th>\n",
              "      <th>1</th>\n",
              "      <th>2</th>\n",
              "      <th>3</th>\n",
              "      <th>4</th>\n",
              "      <th>5</th>\n",
              "      <th>6</th>\n",
              "      <th>7</th>\n",
              "      <th>8</th>\n",
              "      <th>9</th>\n",
              "      <th>10</th>\n",
              "      <th>11</th>\n",
              "      <th>12</th>\n",
              "      <th>13</th>\n",
              "      <th>14</th>\n",
              "      <th>15</th>\n",
              "      <th>16</th>\n",
              "      <th>17</th>\n",
              "      <th>18</th>\n",
              "      <th>19</th>\n",
              "      <th>20</th>\n",
              "      <th>21</th>\n",
              "      <th>22</th>\n",
              "      <th>23</th>\n",
              "      <th>24</th>\n",
              "      <th>25</th>\n",
              "      <th>26</th>\n",
              "      <th>27</th>\n",
              "      <th>28</th>\n",
              "      <th>29</th>\n",
              "      <th>30</th>\n",
              "      <th>31</th>\n",
              "      <th>32</th>\n",
              "      <th>33</th>\n",
              "      <th>34</th>\n",
              "      <th>35</th>\n",
              "      <th>36</th>\n",
              "      <th>37</th>\n",
              "      <th>38</th>\n",
              "      <th>39</th>\n",
              "      <th>40</th>\n",
              "      <th>41</th>\n",
              "      <th>42</th>\n",
              "      <th>43</th>\n",
              "      <th>44</th>\n",
              "    </tr>\n",
              "  </thead>\n",
              "  <tbody>\n",
              "    <tr>\n",
              "      <th>0</th>\n",
              "      <td>0</td>\n",
              "      <td>0</td>\n",
              "      <td>0</td>\n",
              "      <td>0</td>\n",
              "      <td>0</td>\n",
              "      <td>0</td>\n",
              "      <td>0</td>\n",
              "      <td>0</td>\n",
              "      <td>-1</td>\n",
              "      <td>0</td>\n",
              "      <td>0</td>\n",
              "      <td>0</td>\n",
              "      <td>0</td>\n",
              "      <td>0</td>\n",
              "      <td>0</td>\n",
              "      <td>0</td>\n",
              "      <td>0</td>\n",
              "      <td>0</td>\n",
              "      <td>0</td>\n",
              "      <td>0</td>\n",
              "      <td>0</td>\n",
              "      <td>0</td>\n",
              "      <td>-1</td>\n",
              "      <td>0</td>\n",
              "      <td>-1</td>\n",
              "      <td>0</td>\n",
              "      <td>0</td>\n",
              "      <td>0</td>\n",
              "      <td>0</td>\n",
              "      <td>0</td>\n",
              "      <td>0</td>\n",
              "      <td>0</td>\n",
              "      <td>-1</td>\n",
              "      <td>0</td>\n",
              "      <td>0</td>\n",
              "      <td>0</td>\n",
              "      <td>1</td>\n",
              "      <td>1</td>\n",
              "      <td>0</td>\n",
              "      <td>1</td>\n",
              "      <td>0</td>\n",
              "      <td>0</td>\n",
              "      <td>0</td>\n",
              "      <td>0</td>\n",
              "      <td>0</td>\n",
              "    </tr>\n",
              "    <tr>\n",
              "      <th>1</th>\n",
              "      <td>1</td>\n",
              "      <td>-1</td>\n",
              "      <td>0</td>\n",
              "      <td>0</td>\n",
              "      <td>0</td>\n",
              "      <td>0</td>\n",
              "      <td>0</td>\n",
              "      <td>0</td>\n",
              "      <td>0</td>\n",
              "      <td>0</td>\n",
              "      <td>0</td>\n",
              "      <td>0</td>\n",
              "      <td>0</td>\n",
              "      <td>0</td>\n",
              "      <td>0</td>\n",
              "      <td>0</td>\n",
              "      <td>0</td>\n",
              "      <td>0</td>\n",
              "      <td>0</td>\n",
              "      <td>0</td>\n",
              "      <td>0</td>\n",
              "      <td>-1</td>\n",
              "      <td>-1</td>\n",
              "      <td>0</td>\n",
              "      <td>0</td>\n",
              "      <td>1</td>\n",
              "      <td>0</td>\n",
              "      <td>0</td>\n",
              "      <td>0</td>\n",
              "      <td>1</td>\n",
              "      <td>0</td>\n",
              "      <td>0</td>\n",
              "      <td>0</td>\n",
              "      <td>0</td>\n",
              "      <td>0</td>\n",
              "      <td>0</td>\n",
              "      <td>0</td>\n",
              "      <td>0</td>\n",
              "      <td>0</td>\n",
              "      <td>0</td>\n",
              "      <td>-1</td>\n",
              "      <td>0</td>\n",
              "      <td>0</td>\n",
              "      <td>0</td>\n",
              "      <td>0</td>\n",
              "    </tr>\n",
              "    <tr>\n",
              "      <th>2</th>\n",
              "      <td>2</td>\n",
              "      <td>0</td>\n",
              "      <td>0</td>\n",
              "      <td>0</td>\n",
              "      <td>-1</td>\n",
              "      <td>0</td>\n",
              "      <td>0</td>\n",
              "      <td>0</td>\n",
              "      <td>0</td>\n",
              "      <td>0</td>\n",
              "      <td>0</td>\n",
              "      <td>0</td>\n",
              "      <td>0</td>\n",
              "      <td>0</td>\n",
              "      <td>0</td>\n",
              "      <td>0</td>\n",
              "      <td>0</td>\n",
              "      <td>0</td>\n",
              "      <td>0</td>\n",
              "      <td>0</td>\n",
              "      <td>0</td>\n",
              "      <td>0</td>\n",
              "      <td>0</td>\n",
              "      <td>0</td>\n",
              "      <td>0</td>\n",
              "      <td>0</td>\n",
              "      <td>0</td>\n",
              "      <td>1</td>\n",
              "      <td>1</td>\n",
              "      <td>1</td>\n",
              "      <td>0</td>\n",
              "      <td>0</td>\n",
              "      <td>0</td>\n",
              "      <td>0</td>\n",
              "      <td>0</td>\n",
              "      <td>0</td>\n",
              "      <td>0</td>\n",
              "      <td>0</td>\n",
              "      <td>0</td>\n",
              "      <td>-1</td>\n",
              "      <td>-1</td>\n",
              "      <td>0</td>\n",
              "      <td>0</td>\n",
              "      <td>0</td>\n",
              "      <td>0</td>\n",
              "    </tr>\n",
              "    <tr>\n",
              "      <th>3</th>\n",
              "      <td>3</td>\n",
              "      <td>0</td>\n",
              "      <td>0</td>\n",
              "      <td>0</td>\n",
              "      <td>0</td>\n",
              "      <td>1</td>\n",
              "      <td>0</td>\n",
              "      <td>0</td>\n",
              "      <td>0</td>\n",
              "      <td>0</td>\n",
              "      <td>0</td>\n",
              "      <td>0</td>\n",
              "      <td>0</td>\n",
              "      <td>0</td>\n",
              "      <td>0</td>\n",
              "      <td>0</td>\n",
              "      <td>0</td>\n",
              "      <td>0</td>\n",
              "      <td>0</td>\n",
              "      <td>0</td>\n",
              "      <td>-1</td>\n",
              "      <td>0</td>\n",
              "      <td>0</td>\n",
              "      <td>0</td>\n",
              "      <td>0</td>\n",
              "      <td>0</td>\n",
              "      <td>0</td>\n",
              "      <td>0</td>\n",
              "      <td>0</td>\n",
              "      <td>0</td>\n",
              "      <td>0</td>\n",
              "      <td>0</td>\n",
              "      <td>0</td>\n",
              "      <td>0</td>\n",
              "      <td>0</td>\n",
              "      <td>0</td>\n",
              "      <td>-1</td>\n",
              "      <td>0</td>\n",
              "      <td>0</td>\n",
              "      <td>-1</td>\n",
              "      <td>-1</td>\n",
              "      <td>0</td>\n",
              "      <td>0</td>\n",
              "      <td>0</td>\n",
              "      <td>0</td>\n",
              "    </tr>\n",
              "    <tr>\n",
              "      <th>4</th>\n",
              "      <td>4</td>\n",
              "      <td>0</td>\n",
              "      <td>-1</td>\n",
              "      <td>0</td>\n",
              "      <td>0</td>\n",
              "      <td>0</td>\n",
              "      <td>0</td>\n",
              "      <td>0</td>\n",
              "      <td>0</td>\n",
              "      <td>0</td>\n",
              "      <td>0</td>\n",
              "      <td>0</td>\n",
              "      <td>0</td>\n",
              "      <td>0</td>\n",
              "      <td>0</td>\n",
              "      <td>0</td>\n",
              "      <td>-1</td>\n",
              "      <td>0</td>\n",
              "      <td>0</td>\n",
              "      <td>0</td>\n",
              "      <td>1</td>\n",
              "      <td>1</td>\n",
              "      <td>0</td>\n",
              "      <td>0</td>\n",
              "      <td>0</td>\n",
              "      <td>0</td>\n",
              "      <td>0</td>\n",
              "      <td>0</td>\n",
              "      <td>0</td>\n",
              "      <td>0</td>\n",
              "      <td>0</td>\n",
              "      <td>0</td>\n",
              "      <td>0</td>\n",
              "      <td>0</td>\n",
              "      <td>0</td>\n",
              "      <td>0</td>\n",
              "      <td>-1</td>\n",
              "      <td>0</td>\n",
              "      <td>0</td>\n",
              "      <td>0</td>\n",
              "      <td>0</td>\n",
              "      <td>0</td>\n",
              "      <td>0</td>\n",
              "      <td>0</td>\n",
              "      <td>0</td>\n",
              "    </tr>\n",
              "  </tbody>\n",
              "</table>\n",
              "</div>"
            ],
            "text/plain": [
              "   cust_id  1  2  3  4  5  6  7  8  9  ...  35  36  37  38  39  40  41  42  43  44\n",
              "0        0  0  0  0  0  0  0  0 -1  0  ...   0   1   1   0   1   0   0   0   0   0\n",
              "1        1 -1  0  0  0  0  0  0  0  0  ...   0   0   0   0   0  -1   0   0   0   0\n",
              "2        2  0  0  0 -1  0  0  0  0  0  ...   0   0   0   0  -1  -1   0   0   0   0\n",
              "3        3  0  0  0  0  1  0  0  0  0  ...   0  -1   0   0  -1  -1   0   0   0   0\n",
              "4        4  0 -1  0  0  0  0  0  0  0  ...   0  -1   0   0   0   0   0   0   0   0\n",
              "\n",
              "[5 rows x 45 columns]"
            ]
          },
          "metadata": {
            "tags": []
          },
          "execution_count": 16
        }
      ]
    },
    {
      "cell_type": "code",
      "metadata": {
        "id": "t8_rXKeXVjgF",
        "colab_type": "code",
        "colab": {}
      },
      "source": [
        "M = (np.array(df.iloc[:,1:]))"
      ],
      "execution_count": 0,
      "outputs": []
    },
    {
      "cell_type": "code",
      "metadata": {
        "id": "XLiXuZsWVsLj",
        "colab_type": "code",
        "outputId": "cffb8973-46d5-42a7-a56b-da7fb80d4050",
        "colab": {
          "base_uri": "https://localhost:8080/",
          "height": 34
        }
      },
      "source": [
        "M.shape"
      ],
      "execution_count": 0,
      "outputs": [
        {
          "output_type": "execute_result",
          "data": {
            "text/plain": [
              "(112589, 44)"
            ]
          },
          "metadata": {
            "tags": []
          },
          "execution_count": 18
        }
      ]
    },
    {
      "cell_type": "code",
      "metadata": {
        "id": "8W33TFAiVx3-",
        "colab_type": "code",
        "outputId": "88b6b9f8-0479-4fb6-cc32-fe4040d4c57d",
        "colab": {
          "base_uri": "https://localhost:8080/",
          "height": 34
        }
      },
      "source": [
        "idx=np.argwhere(M != 0)\n",
        "values = M[M!=0]\n",
        "values.shape"
      ],
      "execution_count": 0,
      "outputs": [
        {
          "output_type": "execute_result",
          "data": {
            "text/plain": [
              "(647383,)"
            ]
          },
          "metadata": {
            "tags": []
          },
          "execution_count": 19
        }
      ]
    },
    {
      "cell_type": "code",
      "metadata": {
        "id": "0Arlk0-SV2HK",
        "colab_type": "code",
        "outputId": "4b7bfe46-ca96-4858-f668-b2e732a7ba51",
        "colab": {
          "base_uri": "https://localhost:8080/",
          "height": 87
        }
      },
      "source": [
        "idx = tf.where(tf.not_equal(M, 0))\n",
        "sparse_M = tf.SparseTensor(idx, values, M.shape)"
      ],
      "execution_count": 0,
      "outputs": [
        {
          "output_type": "stream",
          "text": [
            "WARNING:tensorflow:From <ipython-input-20-eeeb577c5157>:1: where (from tensorflow.python.ops.array_ops) is deprecated and will be removed in a future version.\n",
            "Instructions for updating:\n",
            "Use tf.where in 2.0, which has the same broadcast rule as np.where\n"
          ],
          "name": "stdout"
        }
      ]
    },
    {
      "cell_type": "code",
      "metadata": {
        "id": "BRbubnHHV6Y5",
        "colab_type": "code",
        "colab": {}
      },
      "source": [
        "def tensor_to_numpy(tens):\n",
        "  with tf.Session() as sess:\n",
        "    return (tens.eval())"
      ],
      "execution_count": 0,
      "outputs": []
    },
    {
      "cell_type": "code",
      "metadata": {
        "id": "hKe8TDJ4WAIW",
        "colab_type": "code",
        "colab": {}
      },
      "source": [
        "v = tensor_to_numpy(sparse_M.indices)"
      ],
      "execution_count": 0,
      "outputs": []
    },
    {
      "cell_type": "code",
      "metadata": {
        "id": "UQ7d4LEoWqwF",
        "colab_type": "code",
        "colab": {}
      },
      "source": [
        "def sparse_mean_square_error(sparse_m, cust_embeddings, prod_embeddings):\n",
        "  \"\"\"\n",
        "  Args:\n",
        "    sparse_m: A SparseTensor rating matrix, of dense_shape [N, M]\n",
        "    cust_embeddings: A dense Tensor U of shape [N, k] where k is the embedding\n",
        "      dimension, such that U_i is the embedding of customer i.\n",
        "    prod_embeddings: A dense Tensor V of shape [M, k] where k is the embedding\n",
        "      dimension, such that V_j is the embedding of product j.\n",
        "  Returns:\n",
        "    A scalar Tensor representing the MSE between the true ratings and the\n",
        "      model's predictions.\n",
        "  \"\"\"\n",
        "  predictions= tf.gather_nd(tf.matmul(cust_embeddings, prod_embeddings, transpose_b=True),\n",
        "      sparse_m.indices)\n",
        "  loss = tf.losses.mean_squared_error(sparse_m.values, predictions)\n",
        "  return loss"
      ],
      "execution_count": 0,
      "outputs": []
    },
    {
      "cell_type": "code",
      "metadata": {
        "id": "COWeQp4_WzDB",
        "colab_type": "code",
        "colab": {}
      },
      "source": [
        "def gravity(U, V):\n",
        "  \"\"\"Creates a gravity loss given two embedding matrices.\"\"\"\n",
        "  return 1. / (U.shape[0].value*V.shape[0].value) * tf.reduce_sum(\n",
        "      tf.matmul(U, U, transpose_a=True) * tf.matmul(V, V, transpose_a=True))"
      ],
      "execution_count": 0,
      "outputs": []
    },
    {
      "cell_type": "code",
      "metadata": {
        "id": "uiCkYHH4W4fj",
        "colab_type": "code",
        "colab": {}
      },
      "source": [
        "class CFModel(object):\n",
        "  \"\"\"Simple class that represents a collaborative filtering model\"\"\"\n",
        "  def __init__(self, embedding_vars, loss, metrics=None):\n",
        "    \"\"\"Initializes a CFModel.\n",
        "    Args:\n",
        "      embedding_vars: A dictionary of tf.Variables.\n",
        "      loss: A float Tensor. The loss to optimize.\n",
        "      metrics: optional list of dictionaries of Tensors. The metrics in each\n",
        "        dictionary will be plotted in a separate figure during training.\n",
        "    \"\"\"\n",
        "    self._embedding_vars = embedding_vars\n",
        "    self._loss = loss\n",
        "    self._metrics = metrics\n",
        "    self._embeddings = {k: None for k in embedding_vars}\n",
        "    self._session = None\n",
        "\n",
        "  @property\n",
        "  def embeddings(self):\n",
        "    \"\"\"The embeddings dictionary.\"\"\"\n",
        "    return self._embeddings\n",
        "\n",
        "  def train(self, num_iterations=100, learning_rate=1.0, plot_results=True,\n",
        "            optimizer=tf.train.AdamOptimizer):\n",
        "    \"\"\"Trains the model.\n",
        "    Args:\n",
        "      iterations: number of iterations to run.\n",
        "      learning_rate: optimizer learning rate.\n",
        "      plot_results: whether to plot the results at the end of training.\n",
        "      optimizer: the optimizer to use. Default to GradientDescentOptimizer.\n",
        "    Returns:\n",
        "      The metrics dictionary evaluated at the last iteration.\n",
        "    \"\"\"\n",
        "    with self._loss.graph.as_default():\n",
        "      opt = optimizer(learning_rate)\n",
        "      train_op = opt.minimize(self._loss)\n",
        "      local_init_op = tf.group(\n",
        "          tf.variables_initializer(opt.variables()),\n",
        "          tf.local_variables_initializer())\n",
        "      if self._session is None:\n",
        "        self._session = tf.Session()\n",
        "        with self._session.as_default():\n",
        "          self._session.run(tf.global_variables_initializer())\n",
        "          self._session.run(tf.tables_initializer())\n",
        "          tf.train.start_queue_runners()\n",
        "\n",
        "    with self._session.as_default():\n",
        "      local_init_op.run()\n",
        "      iterations = []\n",
        "      metrics = self._metrics or ({},)\n",
        "      metrics_vals = [collections.defaultdict(list) for _ in self._metrics]\n",
        "\n",
        "      # Train and append results.\n",
        "      for i in range(num_iterations + 1):\n",
        "        _, results = self._session.run((train_op, metrics))\n",
        "        if (i % 10 == 0) or i == num_iterations:\n",
        "          print(\"\\r iteration %d: \" % i + \", \".join(\n",
        "                [\"%s=%f\" % (k, v) for r in results for k, v in r.items()]),\n",
        "                end='')\n",
        "          iterations.append(i)\n",
        "          for metric_val, result in zip(metrics_vals, results):\n",
        "            for k, v in result.items():\n",
        "              metric_val[k].append(v)\n",
        "\n",
        "      for k, v in self._embedding_vars.items():\n",
        "        self._embeddings[k] = v.eval()\n",
        "\n",
        "      if plot_results:\n",
        "        # Plot the metrics.\n",
        "        num_subplots = len(metrics)+1\n",
        "        fig = plt.figure()\n",
        "        fig.set_size_inches(num_subplots*10, 8)\n",
        "        for i, metric_vals in enumerate(metrics_vals):\n",
        "          ax = fig.add_subplot(1, num_subplots, i+1)\n",
        "          for k, v in metric_vals.items():\n",
        "            ax.plot(iterations, v, label=k)\n",
        "          ax.set_xlim([1, num_iterations])\n",
        "          ax.legend()\n",
        "      return results"
      ],
      "execution_count": 0,
      "outputs": []
    },
    {
      "cell_type": "code",
      "metadata": {
        "id": "BFYjcE_TWTwY",
        "colab_type": "code",
        "colab": {}
      },
      "source": [
        "def build_model(ratings, embedding_dim=3, init_stddev=1.):\n",
        "\n",
        "  \n",
        "  # Initialize the embeddings using a normal distribution.\n",
        "  U = tf.Variable(tf.random_normal(\n",
        "      [ratings.dense_shape[0], embedding_dim], stddev=init_stddev))\n",
        "  V = tf.Variable(tf.random_normal(\n",
        "      [ratings.dense_shape[1], embedding_dim], stddev=init_stddev))\n",
        "  train_loss = sparse_mean_square_error(ratings, U, V)\n",
        "  metrics = {\n",
        "      'train_error': train_loss,\n",
        "  }\n",
        "  embeddings = {\n",
        "      \"cust_id\": U,\n",
        "      \"prod_id\": V\n",
        "  }\n",
        "  return CFModel(embeddings, train_loss, [metrics])"
      ],
      "execution_count": 0,
      "outputs": []
    },
    {
      "cell_type": "code",
      "metadata": {
        "id": "QulwYaJfXLJZ",
        "colab_type": "code",
        "outputId": "d2d94801-6c46-4fe7-cdcc-0119bc4017bf",
        "colab": {
          "base_uri": "https://localhost:8080/",
          "height": 570
        }
      },
      "source": [
        "model = build_model(sparse_M, embedding_dim=30, init_stddev=0.5)\n",
        "model.train(num_iterations=1000, learning_rate=10.)"
      ],
      "execution_count": 0,
      "outputs": [
        {
          "output_type": "stream",
          "text": [
            "WARNING:tensorflow:`tf.train.start_queue_runners()` was called when no queue runners were defined. You can safely remove the call to this deprecated function.\n",
            " iteration 1000: train_error=0.847063"
          ],
          "name": "stdout"
        },
        {
          "output_type": "execute_result",
          "data": {
            "text/plain": [
              "[{'train_error': 0.8470631}]"
            ]
          },
          "metadata": {
            "tags": []
          },
          "execution_count": 149
        },
        {
          "output_type": "display_data",
          "data": {
            "image/png": "[encoded data removed]",
            "text/plain": [
              "<Figure size 1440x576 with 1 Axes>"
            ]
          },
          "metadata": {
            "tags": []
          }
        }
      ]
    },
    {
      "cell_type": "code",
      "metadata": {
        "id": "fV6S8xDQhYt2",
        "colab_type": "code",
        "colab": {}
      },
      "source": [
        "a = np.array([807.2511,  768.7781,  685.4434,  669.8684,  662.6182,  648.8273,  641.12976,\n",
        " 618.08215, 615.4326,  615.0561 ])\n",
        "b = np.array([9931, 106883, 107798, 34519, 74863, 111024, 90320, 19933, 8318, 24915])"
      ],
      "execution_count": 0,
      "outputs": []
    },
    {
      "cell_type": "code",
      "metadata": {
        "id": "i62Te1SDiMAq",
        "colab_type": "code",
        "colab": {}
      },
      "source": [
        "x = pd.DataFrame({'Similarity Score': a, 'Customer ID': b})"
      ],
      "execution_count": 0,
      "outputs": []
    },
    {
      "cell_type": "code",
      "metadata": {
        "id": "4b_XlVjUh0Cw",
        "colab_type": "code",
        "outputId": "d319ab64-238f-466f-a121-a1acf784209c",
        "colab": {
          "base_uri": "https://localhost:8080/",
          "height": 410
        }
      },
      "source": [
        "import seaborn as sns\n",
        "\n",
        "sns.catplot(y = 'Similarity Score', x = 'Customer ID', data = x, kind = 'bar')\n",
        "plt.xticks(rotation = 45)"
      ],
      "execution_count": 0,
      "outputs": [
        {
          "output_type": "execute_result",
          "data": {
            "text/plain": [
              "(array([0, 1, 2, 3, 4, 5, 6, 7, 8, 9]), <a list of 10 Text xticklabel objects>)"
            ]
          },
          "metadata": {
            "tags": []
          },
          "execution_count": 56
        },
        {
          "output_type": "display_data",
          "data": {
            "image/png": "[encoded data removed]",
            "text/plain": [
              "<Figure size 360x360 with 1 Axes>"
            ]
          },
          "metadata": {
            "tags": []
          }
        }
      ]
    },
    {
      "cell_type": "code",
      "metadata": {
        "id": "ZuiHF4S7h2Tm",
        "colab_type": "code",
        "colab": {}
      },
      "source": [
        "sns.catplot(x = b, y = a)"
      ],
      "execution_count": 0,
      "outputs": []
    },
    {
      "cell_type": "code",
      "metadata": {
        "id": "v8LKg-y2YGBA",
        "colab_type": "code",
        "colab": {}
      },
      "source": [
        "emb = model.embeddings"
      ],
      "execution_count": 0,
      "outputs": []
    },
    {
      "cell_type": "code",
      "metadata": {
        "id": "26kam4iKYM3V",
        "colab_type": "code",
        "outputId": "4a1afeaf-8c7b-44a6-d3b5-8fc0d13d093e",
        "colab": {
          "base_uri": "https://localhost:8080/",
          "height": 34
        }
      },
      "source": [
        "cust_emb = emb['cust_id']\n",
        "cust_emb.shape"
      ],
      "execution_count": 0,
      "outputs": [
        {
          "output_type": "execute_result",
          "data": {
            "text/plain": [
              "(112589, 30)"
            ]
          },
          "metadata": {
            "tags": []
          },
          "execution_count": 151
        }
      ]
    },
    {
      "cell_type": "code",
      "metadata": {
        "id": "-w2zfP6tYRhG",
        "colab_type": "code",
        "outputId": "11adfb12-8f72-40e7-9c3c-6a60b3bd1b7b",
        "colab": {
          "base_uri": "https://localhost:8080/",
          "height": 34
        }
      },
      "source": [
        "prod_emb = emb['prod_id']\n",
        "prod_emb.shape"
      ],
      "execution_count": 0,
      "outputs": [
        {
          "output_type": "execute_result",
          "data": {
            "text/plain": [
              "(44, 30)"
            ]
          },
          "metadata": {
            "tags": []
          },
          "execution_count": 152
        }
      ]
    },
    {
      "cell_type": "code",
      "metadata": {
        "id": "7i7MeqWCYVAz",
        "colab_type": "code",
        "colab": {}
      },
      "source": [
        "#[predictions for first customer]\n",
        "pred = np.dot(cust_emb[19,:],prod_emb.T)"
      ],
      "execution_count": 0,
      "outputs": []
    },
    {
      "cell_type": "code",
      "metadata": {
        "id": "iTLWE3m3YYHh",
        "colab_type": "code",
        "outputId": "23c2159f-0c87-4b39-adfd-0d2d05f57af8",
        "colab": {
          "base_uri": "https://localhost:8080/",
          "height": 168
        }
      },
      "source": [
        "pred"
      ],
      "execution_count": 0,
      "outputs": [
        {
          "output_type": "execute_result",
          "data": {
            "text/plain": [
              "array([-0.6685041 ,  0.27835247,  0.09060699,  0.07012698,  0.04733299,\n",
              "        1.0936681 ,  0.20432295,  0.5410133 ,  0.65157443, -0.39778942,\n",
              "       -0.08497767,  0.88420933, -0.25276494, -1.1893969 , -0.5408027 ,\n",
              "       -0.39408433,  0.37388042, -0.05579899,  0.44301954,  0.45079038,\n",
              "        0.03851806, -0.25038272, -0.09229919,  0.4192292 ,  2.7537985 ,\n",
              "        0.22322318,  1.2328053 ,  0.2778355 ,  0.8019164 , -0.5214667 ,\n",
              "        0.8870295 , -0.7434586 , -0.06287399, -0.8284562 , -0.33538872,\n",
              "       -1.6749883 , -1.8506694 ,  0.10860839, -0.01276089, -0.49496552,\n",
              "       -0.18937023,  0.96427214,  1.0609442 ,  0.8184343 ], dtype=float32)"
            ]
          },
          "metadata": {
            "tags": []
          },
          "execution_count": 154
        }
      ]
    },
    {
      "cell_type": "code",
      "metadata": {
        "id": "zFcYTwg8aewU",
        "colab_type": "code",
        "colab": {}
      },
      "source": [
        "\n",
        "def gravity(U, V):\n",
        "  \"\"\"Creates a gravity loss given two embedding matrices.\"\"\"\n",
        "  return 1. / (U.shape[0].value*V.shape[0].value) * tf.reduce_sum(\n",
        "      tf.matmul(U, U, transpose_a=True) * tf.matmul(V, V, transpose_a=True))\n",
        "\n",
        "def build_regularized_model(\n",
        "    ratings, embedding_dim=3, regularization_coeff=.1, gravity_coeff=1.,\n",
        "    init_stddev=0.1):\n",
        "  \"\"\"\n",
        "  Args:\n",
        "    ratings: the DataFrame of movie ratings.\n",
        "    embedding_dim: The dimension of the embedding space.\n",
        "    regularization_coeff: The regularization coefficient lambda.\n",
        "    gravity_coeff: The gravity regularization coefficient lambda_g.\n",
        "  Returns:\n",
        "    A CFModel object that uses a regularized loss.\n",
        "  \"\"\"\n",
        "  U = tf.Variable(tf.random_normal(\n",
        "      [ratings.dense_shape[0], embedding_dim], stddev=init_stddev))\n",
        "  V = tf.Variable(tf.random_normal(\n",
        "      [ratings.dense_shape[1], embedding_dim], stddev=init_stddev))\n",
        "  # train_loss = sparse_mean_square_error(ratings, U, V)\n",
        "  error_train = sparse_mean_square_error(ratings, U, V)\n",
        "  gravity_loss = gravity_coeff * gravity(U, V)\n",
        "  regularization_loss = regularization_coeff * (\n",
        "      tf.reduce_sum(U*U)/U.shape[0].value + tf.reduce_sum(V*V)/V.shape[0].value)\n",
        "  total_loss = error_train + regularization_loss + gravity_loss\n",
        "  losses = {\n",
        "      'train_error_observed': error_train,\n",
        "  }\n",
        "  loss_components = {\n",
        "      'observed_loss': error_train,\n",
        "      'regularization_loss': regularization_loss,\n",
        "      'gravity_loss': gravity_loss,\n",
        "  }\n",
        "  embeddings = {\"cust_id\": U, \"prod_id\": V}\n",
        "\n",
        "  return CFModel(embeddings, total_loss, [losses, loss_components])"
      ],
      "execution_count": 0,
      "outputs": []
    },
    {
      "cell_type": "code",
      "metadata": {
        "id": "7CPOXes3c1Dd",
        "colab_type": "code",
        "outputId": "ff89166b-e955-4602-ac09-00f2c5133621",
        "colab": {
          "base_uri": "https://localhost:8080/",
          "height": 171
        }
      },
      "source": [
        "reg_model = build_regularized_model(\n",
        "    sparse_M, regularization_coeff=0.1, gravity_coeff=1.0, embedding_dim=35,\n",
        "    init_stddev=.05)\n",
        "reg_model.train(num_iterations=1000, learning_rate=20.,plot_results=False)"
      ],
      "execution_count": 0,
      "outputs": [
        {
          "output_type": "stream",
          "text": [
            "WARNING:tensorflow:From <ipython-input-25-936a100d9dfc>:44: start_queue_runners (from tensorflow.python.training.queue_runner_impl) is deprecated and will be removed in a future version.\n",
            "Instructions for updating:\n",
            "To construct input pipelines, use the `tf.data` module.\n",
            "WARNING:tensorflow:`tf.train.start_queue_runners()` was called when no queue runners were defined. You can safely remove the call to this deprecated function.\n",
            " iteration 1000: train_error_observed=0.596826, observed_loss=0.596826, regularization_loss=72.043961, gravity_loss=0.095179"
          ],
          "name": "stdout"
        },
        {
          "output_type": "execute_result",
          "data": {
            "text/plain": [
              "[{'train_error_observed': 0.59682626},\n",
              " {'gravity_loss': 0.09517918,\n",
              "  'observed_loss': 0.59682626,\n",
              "  'regularization_loss': 72.04396}]"
            ]
          },
          "metadata": {
            "tags": []
          },
          "execution_count": 28
        }
      ]
    },
    {
      "cell_type": "code",
      "metadata": {
        "id": "ggsqODDC5Yu6",
        "colab_type": "code",
        "colab": {}
      },
      "source": [
        "reg_emb = reg_model.embeddings"
      ],
      "execution_count": 0,
      "outputs": []
    },
    {
      "cell_type": "code",
      "metadata": {
        "id": "JSQm5410jQSw",
        "colab_type": "code",
        "colab": {}
      },
      "source": [
        "reg_cust_emb = reg_emb['cust_id']\n",
        "reg_prod_emb = reg_emb['prod_id']"
      ],
      "execution_count": 0,
      "outputs": []
    },
    {
      "cell_type": "code",
      "metadata": {
        "id": "NdXCFyKEoYAJ",
        "colab_type": "code",
        "colab": {}
      },
      "source": [
        "np.save('cust_emb.npy', reg_cust_emb)\n",
        "np.save('prod_emb.npy', reg_prod_emb)"
      ],
      "execution_count": 0,
      "outputs": []
    },
    {
      "cell_type": "code",
      "metadata": {
        "id": "jh2e8qe_jeHk",
        "colab_type": "code",
        "colab": {}
      },
      "source": [
        "predicted_matrix = np.dot(cust_emb,prod_emb.T)"
      ],
      "execution_count": 0,
      "outputs": []
    },
    {
      "cell_type": "code",
      "metadata": {
        "id": "3S4yBMckj1Fw",
        "colab_type": "code",
        "outputId": "f193f7bd-1402-4b09-937b-0c871b162391",
        "colab": {
          "base_uri": "https://localhost:8080/",
          "height": 34
        }
      },
      "source": [
        "np.save('collab_matrix_output.npy',predicted_matrix)\n",
        "predicted_matrix.shape"
      ],
      "execution_count": 0,
      "outputs": [
        {
          "output_type": "execute_result",
          "data": {
            "text/plain": [
              "(112589, 44)"
            ]
          },
          "metadata": {
            "tags": []
          },
          "execution_count": 161
        }
      ]
    },
    {
      "cell_type": "code",
      "metadata": {
        "id": "ey34IdA3lZiP",
        "colab_type": "code",
        "colab": {}
      },
      "source": [
        "def find_similar_cust(cust_id,weights,n = 10, least = False, plot = False):\n",
        "    \n",
        "    try:\n",
        "       \n",
        "        dists = np.dot(weights, weights[cust_id-1,:])\n",
        "    except KeyError:\n",
        "        print(f'{cust_id} Not Found.')\n",
        "        return\n",
        "    \n",
        "    # Sort distance indexes from smallest to largest\n",
        "    sorted_dists = np.argsort(dists)\n",
        "    closest = sorted_dists[-n:]\n",
        "    '''for c in reversed(closest):\n",
        "      print(c,dists[c])'''\n",
        "    return (dists,list(reversed(closest)))"
      ],
      "execution_count": 0,
      "outputs": []
    },
    {
      "cell_type": "code",
      "metadata": {
        "id": "F3r7rs3Ym1Xm",
        "colab_type": "code",
        "outputId": "36ffc60b-9980-4473-c6ef-82c67841dbf3",
        "colab": {
          "base_uri": "https://localhost:8080/",
          "height": 101
        }
      },
      "source": [
        "cust_id = 27\n",
        "dsts,indcs = find_similar_cust(cust_id,reg_cust_emb)\n",
        "print('Similar customer ids to customer',cust_id, ' are\\n', indcs)\n",
        "print(\"Cosine Similarity Scores are :\\n\", dsts[indcs])"
      ],
      "execution_count": 0,
      "outputs": [
        {
          "output_type": "stream",
          "text": [
            "Similar customer ids to customer 27  are\n",
            " [9931, 106883, 107798, 34519, 74863, 111024, 90320, 19933, 8318, 24915]\n",
            "Cosine Similarity Scores are :\n",
            " [807.2511  768.7781  685.4434  669.8684  662.6182  648.8273  641.12976\n",
            " 618.08215 615.4326  615.0561 ]\n"
          ],
          "name": "stdout"
        }
      ]
    },
    {
      "cell_type": "code",
      "metadata": {
        "id": "nWEvx5ELm4rW",
        "colab_type": "code",
        "colab": {}
      },
      "source": [
        ""
      ],
      "execution_count": 0,
      "outputs": []
    },
    {
      "cell_type": "code",
      "metadata": {
        "id": "S8ZRTI7uqN34",
        "colab_type": "code",
        "colab": {}
      },
      "source": [
        "from sklearn.manifold import TSNE\n",
        "from umap import UMAP"
      ],
      "execution_count": 0,
      "outputs": []
    },
    {
      "cell_type": "code",
      "metadata": {
        "id": "Z-Rte6s2z3dy",
        "colab_type": "code",
        "colab": {}
      },
      "source": [
        "def reduce_dim(weights, components = 3, method = 'tsne'):\n",
        "    \"\"\"Reduce dimensions of embeddings\"\"\"\n",
        "    if method == 'tsne':\n",
        "        return TSNE(components, metric = 'cosine').fit_transform(weights)\n",
        "    elif method == 'umap':\n",
        "        # Might want to try different parameters for UMAP\n",
        "        return UMAP(n_components=components, metric = 'cosine', \n",
        "                    init = 'random', n_neighbors = 5).fit_transform(weights)\n",
        "  "
      ],
      "execution_count": 0,
      "outputs": []
    },
    {
      "cell_type": "code",
      "metadata": {
        "id": "Rr-lOnqo0Swu",
        "colab_type": "code",
        "outputId": "0b334f55-7e52-4421-ba68-c4227dfe723c",
        "colab": {
          "base_uri": "https://localhost:8080/",
          "height": 34
        }
      },
      "source": [
        "prod_r = reduce_dim(reg_prod_emb, components = 2, method = 'tsne')\n",
        "prod_r.shape"
      ],
      "execution_count": 0,
      "outputs": [
        {
          "output_type": "execute_result",
          "data": {
            "text/plain": [
              "(44, 2)"
            ]
          },
          "metadata": {
            "tags": []
          },
          "execution_count": 174
        }
      ]
    },
    {
      "cell_type": "code",
      "metadata": {
        "id": "80iHHLDA0eCj",
        "colab_type": "code",
        "outputId": "a28fa9fe-e6d0-4f94-908f-ed98c731b229",
        "colab": {
          "base_uri": "https://localhost:8080/",
          "height": 560
        }
      },
      "source": [
        "plt.figure(figsize = (10, 8))\n",
        "plt.plot(prod_r[:, 0], prod_r[:, 1], 'r.')\n",
        "plt.xlabel('TSNE 1'); plt.ylabel('TSNE 2'); plt.title('Product Embeddings Visualized with TSNE');"
      ],
      "execution_count": 0,
      "outputs": [
        {
          "output_type": "display_data",
          "data": {
            "image/png": "[encoded data removed]",
            "text/plain": [
              "<Figure size 720x576 with 1 Axes>"
            ]
          },
          "metadata": {
            "tags": []
          }
        }
      ]
    },
    {
      "cell_type": "code",
      "metadata": {
        "id": "GPsKfkIG2b1B",
        "colab_type": "code",
        "colab": {}
      },
      "source": [
        "def map_category(val):\n",
        "  if val <8:\n",
        "    return 'Entertainment'\n",
        "  if val <13:\n",
        "    return 'Food'\n",
        "  if val <19:\n",
        "    return 'Shopping'\n",
        "  if val <24:\n",
        "    return 'Banking'\n",
        "  if val <29:\n",
        "    return 'Travel'\n",
        "  if val <35:\n",
        "    return 'Lifestyle'\n",
        "  if val <40:\n",
        "    return 'Work'\n",
        "  return 'Healthcare'\n"
      ],
      "execution_count": 0,
      "outputs": []
    },
    {
      "cell_type": "code",
      "metadata": {
        "id": "Ph3woYXl52_Z",
        "colab_type": "code",
        "outputId": "1fd37bfa-e236-4294-e4d4-8a17e5738003",
        "colab": {
          "base_uri": "https://localhost:8080/",
          "height": 34
        }
      },
      "source": [
        "idx_include = []\n",
        "categories = []\n",
        "\n",
        "for i in range(44):\n",
        "          idx_include.append(i)\n",
        "          categories.append(map_category(i).capitalize())            \n",
        "len(idx_include)"
      ],
      "execution_count": 0,
      "outputs": [
        {
          "output_type": "execute_result",
          "data": {
            "text/plain": [
              "44"
            ]
          },
          "metadata": {
            "tags": []
          },
          "execution_count": 177
        }
      ]
    },
    {
      "cell_type": "code",
      "metadata": {
        "id": "kbO_bzsR7x8P",
        "colab_type": "code",
        "outputId": "6dd917ef-de0e-40f8-b7cd-a4f28582645f",
        "colab": {
          "base_uri": "https://localhost:8080/",
          "height": 756
        }
      },
      "source": [
        "categories"
      ],
      "execution_count": 0,
      "outputs": [
        {
          "output_type": "execute_result",
          "data": {
            "text/plain": [
              "['Entertainment',\n",
              " 'Entertainment',\n",
              " 'Entertainment',\n",
              " 'Entertainment',\n",
              " 'Entertainment',\n",
              " 'Entertainment',\n",
              " 'Entertainment',\n",
              " 'Entertainment',\n",
              " 'Food',\n",
              " 'Food',\n",
              " 'Food',\n",
              " 'Food',\n",
              " 'Food',\n",
              " 'Shopping',\n",
              " 'Shopping',\n",
              " 'Shopping',\n",
              " 'Shopping',\n",
              " 'Shopping',\n",
              " 'Shopping',\n",
              " 'Banking',\n",
              " 'Banking',\n",
              " 'Banking',\n",
              " 'Banking',\n",
              " 'Banking',\n",
              " 'Travel',\n",
              " 'Travel',\n",
              " 'Travel',\n",
              " 'Travel',\n",
              " 'Travel',\n",
              " 'Lifestyle',\n",
              " 'Lifestyle',\n",
              " 'Lifestyle',\n",
              " 'Lifestyle',\n",
              " 'Lifestyle',\n",
              " 'Lifestyle',\n",
              " 'Work',\n",
              " 'Work',\n",
              " 'Work',\n",
              " 'Work',\n",
              " 'Work',\n",
              " 'Healthcare',\n",
              " 'Healthcare',\n",
              " 'Healthcare',\n",
              " 'Healthcare']"
            ]
          },
          "metadata": {
            "tags": []
          },
          "execution_count": 178
        }
      ]
    },
    {
      "cell_type": "code",
      "metadata": {
        "id": "o3GG7NGB717z",
        "colab_type": "code",
        "outputId": "372917af-fe6a-470e-83e7-91d95f9a8f79",
        "colab": {
          "base_uri": "https://localhost:8080/",
          "height": 34
        }
      },
      "source": [
        "ints, cats = pd.factorize(categories)\n",
        "cats.shape"
      ],
      "execution_count": 0,
      "outputs": [
        {
          "output_type": "execute_result",
          "data": {
            "text/plain": [
              "(8,)"
            ]
          },
          "metadata": {
            "tags": []
          },
          "execution_count": 179
        }
      ]
    },
    {
      "cell_type": "code",
      "metadata": {
        "id": "b3ntdfLb8CzH",
        "colab_type": "code",
        "outputId": "d36bd2dd-4019-4752-ccb0-a405a1af52fc",
        "colab": {
          "base_uri": "https://localhost:8080/",
          "height": 560
        }
      },
      "source": [
        "plt.figure(figsize = (10, 8))\n",
        "\n",
        "# Plot embedding\n",
        "colors = plt.cm.jet(np.linspace(0, 1, 8))\n",
        "plt.scatter(prod_r[idx_include, 0],prod_r[idx_include, 1], \n",
        "            c = ints)\n",
        "\n",
        "# Add colorbar and appropriate labels\n",
        "cbar = plt.colorbar()\n",
        "cbar.set_ticks([])\n",
        "for j, lab in enumerate(cats):\n",
        "    cbar.ax.text(1, (2 * j + 1) / ((1.15) * 2), lab, ha='left', va='center')\n",
        "cbar.ax.set_title('Categories', loc = 'left')\n",
        "\n",
        "\n",
        "plt.xlabel('TSNE_1'); plt.ylabel('TSNE_2'); plt.title('TSNE Visualization of Product Embeddings');"
      ],
      "execution_count": 0,
      "outputs": [
        {
          "output_type": "display_data",
          "data": {
            "image/png": "[encoded data removed]",
            "text/plain": [
              "<Figure size 720x576 with 2 Axes>"
            ]
          },
          "metadata": {
            "tags": []
          }
        }
      ]
    },
    {
      "cell_type": "code",
      "metadata": {
        "id": "imu0oHnoQXsr",
        "colab_type": "code",
        "colab": {}
      },
      "source": [
        ""
      ],
      "execution_count": 0,
      "outputs": []
    }
  ]
}